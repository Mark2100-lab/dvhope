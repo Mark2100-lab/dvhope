{
 "cells": [
  {
   "cell_type": "code",
   "execution_count": 6,
   "metadata": {},
   "outputs": [],
   "source": [
    "import os\n",
    "os.environ[\"JAVA_HOME\"] = r\"C:\\Program Files\\Java\\jdk-17\"\n",
    "os.environ[\"PATH\"] = r\"C:\\Program Files\\Java\\jdk-17\\bin;\" + os.environ[\"PATH\"]"
   ]
  },
  {
   "cell_type": "code",
   "execution_count": 7,
   "metadata": {},
   "outputs": [
    {
     "name": "stderr",
     "output_type": "stream",
     "text": [
      "java version \"17.0.11\" 2024-04-16 LTS\n",
      "Java(TM) SE Runtime Environment (build 17.0.11+7-LTS-207)\n",
      "Java HotSpot(TM) 64-Bit Server VM (build 17.0.11+7-LTS-207, mixed mode, sharing)\n"
     ]
    }
   ],
   "source": [
    "!java -version"
   ]
  },
  {
   "cell_type": "code",
   "execution_count": 9,
   "metadata": {},
   "outputs": [
    {
     "name": "stdout",
     "output_type": "stream",
     "text": [
      "Checking whether there is an H2O instance running at http://localhost:54323..... not found.\n",
      "Attempting to start a local H2O server...\n",
      "; Java HotSpot(TM) 64-Bit Server VM (build 17.0.11+7-LTS-207, mixed mode, sharing)\n",
      "  Starting server from C:\\Users\\Paul\\anaconda3\\envs\\h2o\\Lib\\site-packages\\h2o\\backend\\bin\\h2o.jar\n",
      "  Ice root: C:\\Users\\Paul\\AppData\\Local\\Temp\\tmpvtimybmz\n",
      "  JVM stdout: C:\\Users\\Paul\\AppData\\Local\\Temp\\tmpvtimybmz\\h2o_Paul_started_from_python.out\n",
      "  JVM stderr: C:\\Users\\Paul\\AppData\\Local\\Temp\\tmpvtimybmz\\h2o_Paul_started_from_python.err\n",
      "  Server is running at http://127.0.0.1:54323\n",
      "Connecting to H2O server at http://127.0.0.1:54323 ... successful.\n"
     ]
    },
    {
     "data": {
      "text/html": [
       "\n",
       "<style>\n",
       "\n",
       "#h2o-table-1.h2o-container {\n",
       "  overflow-x: auto;\n",
       "}\n",
       "#h2o-table-1 .h2o-table {\n",
       "  /* width: 100%; */\n",
       "  margin-top: 1em;\n",
       "  margin-bottom: 1em;\n",
       "}\n",
       "#h2o-table-1 .h2o-table caption {\n",
       "  white-space: nowrap;\n",
       "  caption-side: top;\n",
       "  text-align: left;\n",
       "  /* margin-left: 1em; */\n",
       "  margin: 0;\n",
       "  font-size: larger;\n",
       "}\n",
       "#h2o-table-1 .h2o-table thead {\n",
       "  white-space: nowrap; \n",
       "  position: sticky;\n",
       "  top: 0;\n",
       "  box-shadow: 0 -1px inset;\n",
       "}\n",
       "#h2o-table-1 .h2o-table tbody {\n",
       "  overflow: auto;\n",
       "}\n",
       "#h2o-table-1 .h2o-table th,\n",
       "#h2o-table-1 .h2o-table td {\n",
       "  text-align: right;\n",
       "  /* border: 1px solid; */\n",
       "}\n",
       "#h2o-table-1 .h2o-table tr:nth-child(even) {\n",
       "  /* background: #F5F5F5 */\n",
       "}\n",
       "\n",
       "</style>      \n",
       "<div id=\"h2o-table-1\" class=\"h2o-container\">\n",
       "  <table class=\"h2o-table\">\n",
       "    <caption></caption>\n",
       "    <thead></thead>\n",
       "    <tbody><tr><td>H2O_cluster_uptime:</td>\n",
       "<td>01 secs</td></tr>\n",
       "<tr><td>H2O_cluster_timezone:</td>\n",
       "<td>America/Denver</td></tr>\n",
       "<tr><td>H2O_data_parsing_timezone:</td>\n",
       "<td>UTC</td></tr>\n",
       "<tr><td>H2O_cluster_version:</td>\n",
       "<td>3.46.0.5</td></tr>\n",
       "<tr><td>H2O_cluster_version_age:</td>\n",
       "<td>2 months and 13 days</td></tr>\n",
       "<tr><td>H2O_cluster_name:</td>\n",
       "<td>H2O_from_python_Paul_efubv5</td></tr>\n",
       "<tr><td>H2O_cluster_total_nodes:</td>\n",
       "<td>1</td></tr>\n",
       "<tr><td>H2O_cluster_free_memory:</td>\n",
       "<td>29.97 Gb</td></tr>\n",
       "<tr><td>H2O_cluster_total_cores:</td>\n",
       "<td>0</td></tr>\n",
       "<tr><td>H2O_cluster_allowed_cores:</td>\n",
       "<td>0</td></tr>\n",
       "<tr><td>H2O_cluster_status:</td>\n",
       "<td>locked, healthy</td></tr>\n",
       "<tr><td>H2O_connection_url:</td>\n",
       "<td>http://127.0.0.1:54323</td></tr>\n",
       "<tr><td>H2O_connection_proxy:</td>\n",
       "<td>{\"http\": null, \"https\": null}</td></tr>\n",
       "<tr><td>H2O_internal_security:</td>\n",
       "<td>False</td></tr>\n",
       "<tr><td>Python_version:</td>\n",
       "<td>3.11.9 final</td></tr></tbody>\n",
       "  </table>\n",
       "</div>\n"
      ],
      "text/plain": [
       "--------------------------  -----------------------------\n",
       "H2O_cluster_uptime:         01 secs\n",
       "H2O_cluster_timezone:       America/Denver\n",
       "H2O_data_parsing_timezone:  UTC\n",
       "H2O_cluster_version:        3.46.0.5\n",
       "H2O_cluster_version_age:    2 months and 13 days\n",
       "H2O_cluster_name:           H2O_from_python_Paul_efubv5\n",
       "H2O_cluster_total_nodes:    1\n",
       "H2O_cluster_free_memory:    29.97 Gb\n",
       "H2O_cluster_total_cores:    0\n",
       "H2O_cluster_allowed_cores:  0\n",
       "H2O_cluster_status:         locked, healthy\n",
       "H2O_connection_url:         http://127.0.0.1:54323\n",
       "H2O_connection_proxy:       {\"http\": null, \"https\": null}\n",
       "H2O_internal_security:      False\n",
       "Python_version:             3.11.9 final\n",
       "--------------------------  -----------------------------"
      ]
     },
     "metadata": {},
     "output_type": "display_data"
    }
   ],
   "source": [
    "import h2o\n",
    "h2o.init(port=54323)"
   ]
  },
  {
   "cell_type": "code",
   "execution_count": 10,
   "metadata": {},
   "outputs": [],
   "source": [
    "model_path = \"../saved_models\\GBM_grid_1_AutoML_1_20241110_153230_model_13\"\n",
    "saved_model = h2o.load_model(model_path)"
   ]
  },
  {
   "cell_type": "code",
   "execution_count": 11,
   "metadata": {},
   "outputs": [
    {
     "name": "stderr",
     "output_type": "stream",
     "text": [
      "C:\\Users\\Paul\\AppData\\Local\\Temp\\ipykernel_32700\\4165957757.py:2: DtypeWarning: Columns (5) have mixed types. Specify dtype option on import or set low_memory=False.\n",
      "  df = pd.read_csv('../exploratory_data_analysis/filtered.csv')\n"
     ]
    },
    {
     "data": {
      "text/plain": [
       "Index(['Unnamed: 0.1', 'Unnamed: 0', 'State', 'State-County', 'Pollutant',\n",
       "       'Emissions (Tons)', 'Pollutant Type', 'Site Name', 'EIS Facility ID',\n",
       "       'Facility Type', 'Street Address', 'NAICS', 'Lat/Lon', 'EPA Region',\n",
       "       'FIPS', 'StateAbbr_x', 'County_x', 'StateCountyKey', 'Year',\n",
       "       'StateAbbr_y', 'StateDesc', 'LocationName', 'DataSource', 'Category',\n",
       "       'Measure', 'Data_Value_Unit', 'Data_Value_Type', 'Data_Value',\n",
       "       'Data_Value_Footnote_Symbol', 'Data_Value_Footnote',\n",
       "       'Low_Confidence_Limit', 'High_Confidence_Limit', 'TotalPopulation',\n",
       "       'TotalPop18plus', 'LocationID', 'CategoryID', 'MeasureId',\n",
       "       'DataValueTypeID', 'Short_Question_Text', 'Geolocation', 'County_y',\n",
       "       'Pollutant Type_encoded', 'Pollutant_encoded', 'MeasureId_encoded',\n",
       "       'CategoryID_encoded', 'TotalPopulation_encoded',\n",
       "       'TotalPop18plus_encoded', 'State-County_encoded'],\n",
       "      dtype='object')"
      ]
     },
     "execution_count": 11,
     "metadata": {},
     "output_type": "execute_result"
    }
   ],
   "source": [
    "import pandas as pd\n",
    "df = pd.read_csv('../exploratory_data_analysis/filtered.csv')\n",
    "df.columns"
   ]
  },
  {
   "cell_type": "code",
   "execution_count": null,
   "metadata": {},
   "outputs": [],
   "source": []
  },
  {
   "cell_type": "code",
   "execution_count": 12,
   "metadata": {},
   "outputs": [
    {
     "name": "stdout",
     "output_type": "stream",
     "text": [
      "Parse progress: |████████████████████████████████████████████████████████████████| (done) 100%\n"
     ]
    }
   ],
   "source": [
    "input_features = [\n",
    "    \"Pollutant Type_encoded\", \"Pollutant_encoded\", \"MeasureId_encoded\",\n",
    "    \"CategoryID_encoded\", \"TotalPopulation_encoded\", \"TotalPop18plus_encoded\",\n",
    "    \"State-County_encoded\", \"Low_Confidence_Limit\", \"High_Confidence_Limit\", \n",
    "    \"TotalPopulation\", \"TotalPop18plus\", \"Data_Value\"\n",
    "]\n",
    "\n",
    "output_feature = \"Data_Value\"\n",
    "\n",
    "metadata_columns = [\n",
    "    \"State\", \"State-County\", \"Pollutant\", \"Site Name\", \"EIS Facility ID\", \n",
    "    \"Facility Type\", \"Street Address\", \"NAICS\", \"Lat/Lon\", \"EPA Region\", \n",
    "    \"FIPS\", \"StateAbbr_x\", \"County_x\", \"StateCountyKey\", \"Year\", \n",
    "    \"StateAbbr_y\", \"StateDesc\", \"LocationName\", \"DataSource\", \n",
    "    \"Category\", \"Data_Value_Footnote_Symbol\", \"Data_Value_Footnote\", \n",
    "    \"Short_Question_Text\", \"Geolocation\", \"County_y\"\n",
    "]\n",
    "h2o_df = h2o.H2OFrame(df)\n",
    "\n",
    "splits = h2o_df.split_frame(ratios = [0.8], seed = 1)\n",
    "train = splits[0]\n",
    "test = splits[1]"
   ]
  },
  {
   "cell_type": "code",
   "execution_count": 13,
   "metadata": {},
   "outputs": [
    {
     "name": "stdout",
     "output_type": "stream",
     "text": [
      "gbm prediction progress: |███████████████████████████████████████████████████████| (done) 100%\n",
      "  predict\n",
      "  7.1\n",
      "  7.1\n",
      "  7.1\n",
      "  7.10001\n",
      "  7.10001\n",
      "  7.10001\n",
      "  7.1\n",
      "  7.1\n",
      "  7.1\n",
      "  7.10001\n",
      "[206422 rows x 1 column]\n",
      "\n"
     ]
    }
   ],
   "source": [
    "predictions = saved_model.predict(test)\n",
    "print(predictions)"
   ]
  },
  {
   "cell_type": "code",
   "execution_count": 14,
   "metadata": {},
   "outputs": [
    {
     "name": "stderr",
     "output_type": "stream",
     "text": [
      "c:\\Users\\Paul\\anaconda3\\envs\\h2o\\Lib\\site-packages\\h2o\\frame.py:1981: H2ODependencyWarning: Converting H2O frame to pandas dataframe using single-thread.  For faster conversion using multi-thread, install polars and pyarrow and use it as pandas_df = h2o_df.as_data_frame(use_multi_thread=True)\n",
      "\n",
      "  warnings.warn(\"Converting H2O frame to pandas dataframe using single-thread.  For faster conversion using\"\n"
     ]
    }
   ],
   "source": [
    "predictions_df = predictions.as_data_frame()  # Convert predictions to Pandas"
   ]
  },
  {
   "cell_type": "code",
   "execution_count": 15,
   "metadata": {},
   "outputs": [
    {
     "name": "stderr",
     "output_type": "stream",
     "text": [
      "c:\\Users\\Paul\\anaconda3\\envs\\h2o\\Lib\\site-packages\\h2o\\frame.py:1981: H2ODependencyWarning: Converting H2O frame to pandas dataframe using single-thread.  For faster conversion using multi-thread, install polars and pyarrow and use it as pandas_df = h2o_df.as_data_frame(use_multi_thread=True)\n",
      "\n",
      "  warnings.warn(\"Converting H2O frame to pandas dataframe using single-thread.  For faster conversion using\"\n"
     ]
    }
   ],
   "source": [
    "test_df = test.as_data_frame()  # Convert predictions to Pandas"
   ]
  },
  {
   "cell_type": "code",
   "execution_count": 16,
   "metadata": {},
   "outputs": [],
   "source": [
    "combined_df = pd.concat([test_df, predictions_df], axis=1)"
   ]
  },
  {
   "cell_type": "code",
   "execution_count": 17,
   "metadata": {},
   "outputs": [
    {
     "data": {
      "text/html": [
       "<div>\n",
       "<style scoped>\n",
       "    .dataframe tbody tr th:only-of-type {\n",
       "        vertical-align: middle;\n",
       "    }\n",
       "\n",
       "    .dataframe tbody tr th {\n",
       "        vertical-align: top;\n",
       "    }\n",
       "\n",
       "    .dataframe thead th {\n",
       "        text-align: right;\n",
       "    }\n",
       "</style>\n",
       "<table border=\"1\" class=\"dataframe\">\n",
       "  <thead>\n",
       "    <tr style=\"text-align: right;\">\n",
       "      <th></th>\n",
       "      <th>Unnamed: 0.1</th>\n",
       "      <th>Unnamed: 0</th>\n",
       "      <th>State</th>\n",
       "      <th>State-County</th>\n",
       "      <th>Pollutant</th>\n",
       "      <th>Emissions (Tons)</th>\n",
       "      <th>Pollutant Type</th>\n",
       "      <th>Site Name</th>\n",
       "      <th>EIS Facility ID</th>\n",
       "      <th>Facility Type</th>\n",
       "      <th>...</th>\n",
       "      <th>Geolocation</th>\n",
       "      <th>County_y</th>\n",
       "      <th>Pollutant Type_encoded</th>\n",
       "      <th>Pollutant_encoded</th>\n",
       "      <th>MeasureId_encoded</th>\n",
       "      <th>CategoryID_encoded</th>\n",
       "      <th>TotalPopulation_encoded</th>\n",
       "      <th>TotalPop18plus_encoded</th>\n",
       "      <th>State-County_encoded</th>\n",
       "      <th>predict</th>\n",
       "    </tr>\n",
       "  </thead>\n",
       "  <tbody>\n",
       "    <tr>\n",
       "      <th>0</th>\n",
       "      <td>206</td>\n",
       "      <td>206</td>\n",
       "      <td>Alabama</td>\n",
       "      <td>AL - Autauga</td>\n",
       "      <td>Ammonia</td>\n",
       "      <td>109.72000</td>\n",
       "      <td>CAP</td>\n",
       "      <td>Alabama Power Company</td>\n",
       "      <td>10708711</td>\n",
       "      <td>Electricity Generation via Combustion</td>\n",
       "      <td>...</td>\n",
       "      <td>POINT (-86.6428164158396 32.5350016195151)</td>\n",
       "      <td>Autauga</td>\n",
       "      <td>0</td>\n",
       "      <td>43</td>\n",
       "      <td>5</td>\n",
       "      <td>1</td>\n",
       "      <td>2030</td>\n",
       "      <td>2026</td>\n",
       "      <td>28</td>\n",
       "      <td>7.100002</td>\n",
       "    </tr>\n",
       "    <tr>\n",
       "      <th>1</th>\n",
       "      <td>766</td>\n",
       "      <td>766</td>\n",
       "      <td>Alabama</td>\n",
       "      <td>AL - Autauga</td>\n",
       "      <td>Carbon Monoxide</td>\n",
       "      <td>4.90000</td>\n",
       "      <td>CAP</td>\n",
       "      <td>Alabama Power Company</td>\n",
       "      <td>10708711</td>\n",
       "      <td>Electricity Generation via Combustion</td>\n",
       "      <td>...</td>\n",
       "      <td>POINT (-86.6428164158396 32.5350016195151)</td>\n",
       "      <td>Autauga</td>\n",
       "      <td>0</td>\n",
       "      <td>63</td>\n",
       "      <td>5</td>\n",
       "      <td>1</td>\n",
       "      <td>2030</td>\n",
       "      <td>2026</td>\n",
       "      <td>28</td>\n",
       "      <td>7.100002</td>\n",
       "    </tr>\n",
       "    <tr>\n",
       "      <th>2</th>\n",
       "      <td>1646</td>\n",
       "      <td>1646</td>\n",
       "      <td>Alabama</td>\n",
       "      <td>AL - Autauga</td>\n",
       "      <td>Lead Compounds</td>\n",
       "      <td>0.00987</td>\n",
       "      <td>CAP/HAP</td>\n",
       "      <td>Alabama Power Company</td>\n",
       "      <td>10708711</td>\n",
       "      <td>Electricity Generation via Combustion</td>\n",
       "      <td>...</td>\n",
       "      <td>POINT (-86.6428164158396 32.5350016195151)</td>\n",
       "      <td>Autauga</td>\n",
       "      <td>1</td>\n",
       "      <td>120</td>\n",
       "      <td>5</td>\n",
       "      <td>1</td>\n",
       "      <td>2030</td>\n",
       "      <td>2026</td>\n",
       "      <td>28</td>\n",
       "      <td>7.100002</td>\n",
       "    </tr>\n",
       "    <tr>\n",
       "      <th>3</th>\n",
       "      <td>3006</td>\n",
       "      <td>3006</td>\n",
       "      <td>Alabama</td>\n",
       "      <td>AL - Autauga</td>\n",
       "      <td>Toluene</td>\n",
       "      <td>0.07535</td>\n",
       "      <td>HAP</td>\n",
       "      <td>Autauga County</td>\n",
       "      <td>10583011</td>\n",
       "      <td>Airport</td>\n",
       "      <td>...</td>\n",
       "      <td>POINT (-86.6428164158396 32.5350016195151)</td>\n",
       "      <td>Autauga</td>\n",
       "      <td>3</td>\n",
       "      <td>172</td>\n",
       "      <td>5</td>\n",
       "      <td>1</td>\n",
       "      <td>2030</td>\n",
       "      <td>2026</td>\n",
       "      <td>28</td>\n",
       "      <td>7.100006</td>\n",
       "    </tr>\n",
       "    <tr>\n",
       "      <th>4</th>\n",
       "      <td>3166</td>\n",
       "      <td>3166</td>\n",
       "      <td>Alabama</td>\n",
       "      <td>AL - Autauga</td>\n",
       "      <td>Acrolein</td>\n",
       "      <td>0.04969</td>\n",
       "      <td>HAP</td>\n",
       "      <td>Autauga County</td>\n",
       "      <td>10583011</td>\n",
       "      <td>Airport</td>\n",
       "      <td>...</td>\n",
       "      <td>POINT (-86.6428164158396 32.5350016195151)</td>\n",
       "      <td>Autauga</td>\n",
       "      <td>3</td>\n",
       "      <td>38</td>\n",
       "      <td>5</td>\n",
       "      <td>1</td>\n",
       "      <td>2030</td>\n",
       "      <td>2026</td>\n",
       "      <td>28</td>\n",
       "      <td>7.100006</td>\n",
       "    </tr>\n",
       "  </tbody>\n",
       "</table>\n",
       "<p>5 rows × 49 columns</p>\n",
       "</div>"
      ],
      "text/plain": [
       "   Unnamed: 0.1  Unnamed: 0    State  State-County        Pollutant  \\\n",
       "0           206         206  Alabama  AL - Autauga          Ammonia   \n",
       "1           766         766  Alabama  AL - Autauga  Carbon Monoxide   \n",
       "2          1646        1646  Alabama  AL - Autauga   Lead Compounds   \n",
       "3          3006        3006  Alabama  AL - Autauga          Toluene   \n",
       "4          3166        3166  Alabama  AL - Autauga         Acrolein   \n",
       "\n",
       "   Emissions (Tons) Pollutant Type              Site Name  EIS Facility ID  \\\n",
       "0         109.72000            CAP  Alabama Power Company         10708711   \n",
       "1           4.90000            CAP  Alabama Power Company         10708711   \n",
       "2           0.00987        CAP/HAP  Alabama Power Company         10708711   \n",
       "3           0.07535            HAP         Autauga County         10583011   \n",
       "4           0.04969            HAP         Autauga County         10583011   \n",
       "\n",
       "                           Facility Type  ...  \\\n",
       "0  Electricity Generation via Combustion  ...   \n",
       "1  Electricity Generation via Combustion  ...   \n",
       "2  Electricity Generation via Combustion  ...   \n",
       "3                                Airport  ...   \n",
       "4                                Airport  ...   \n",
       "\n",
       "                                  Geolocation County_y Pollutant Type_encoded  \\\n",
       "0  POINT (-86.6428164158396 32.5350016195151)  Autauga                      0   \n",
       "1  POINT (-86.6428164158396 32.5350016195151)  Autauga                      0   \n",
       "2  POINT (-86.6428164158396 32.5350016195151)  Autauga                      1   \n",
       "3  POINT (-86.6428164158396 32.5350016195151)  Autauga                      3   \n",
       "4  POINT (-86.6428164158396 32.5350016195151)  Autauga                      3   \n",
       "\n",
       "   Pollutant_encoded  MeasureId_encoded CategoryID_encoded  \\\n",
       "0                 43                  5                  1   \n",
       "1                 63                  5                  1   \n",
       "2                120                  5                  1   \n",
       "3                172                  5                  1   \n",
       "4                 38                  5                  1   \n",
       "\n",
       "  TotalPopulation_encoded TotalPop18plus_encoded  State-County_encoded  \\\n",
       "0                    2030                   2026                    28   \n",
       "1                    2030                   2026                    28   \n",
       "2                    2030                   2026                    28   \n",
       "3                    2030                   2026                    28   \n",
       "4                    2030                   2026                    28   \n",
       "\n",
       "    predict  \n",
       "0  7.100002  \n",
       "1  7.100002  \n",
       "2  7.100002  \n",
       "3  7.100006  \n",
       "4  7.100006  \n",
       "\n",
       "[5 rows x 49 columns]"
      ]
     },
     "execution_count": 17,
     "metadata": {},
     "output_type": "execute_result"
    }
   ],
   "source": [
    "combined_df.head()"
   ]
  },
  {
   "cell_type": "code",
   "execution_count": 18,
   "metadata": {},
   "outputs": [],
   "source": [
    "combined_df.to_csv(\"../data_model/test_with_predictions.csv\", index=False)"
   ]
  },
  {
   "cell_type": "code",
   "execution_count": 24,
   "metadata": {},
   "outputs": [],
   "source": [
    "from sklearn.preprocessing import MinMaxScaler\n",
    "\n",
    "\n",
    "scaler = MinMaxScaler()\n",
    "combined_df['predict_scaled'] = scaler.fit_transform(combined_df[['predict']])\n",
    "state_avg_df = combined_df.groupby(\"State\").mean('predict').reset_index()\n",
    "simplified_df = state_avg_df[['State', 'predict_scaled']]\n",
    "simplified_df.to_csv(\"../data_model/simplified_test_with_predictions_scaled.csv\", index=False)"
   ]
  },
  {
   "cell_type": "code",
   "execution_count": 25,
   "metadata": {},
   "outputs": [
    {
     "data": {
      "text/html": [
       "<div>\n",
       "<style scoped>\n",
       "    .dataframe tbody tr th:only-of-type {\n",
       "        vertical-align: middle;\n",
       "    }\n",
       "\n",
       "    .dataframe tbody tr th {\n",
       "        vertical-align: top;\n",
       "    }\n",
       "\n",
       "    .dataframe thead th {\n",
       "        text-align: right;\n",
       "    }\n",
       "</style>\n",
       "<table border=\"1\" class=\"dataframe\">\n",
       "  <thead>\n",
       "    <tr style=\"text-align: right;\">\n",
       "      <th></th>\n",
       "      <th>State</th>\n",
       "      <th>predict_scaled</th>\n",
       "    </tr>\n",
       "  </thead>\n",
       "  <tbody>\n",
       "    <tr>\n",
       "      <th>0</th>\n",
       "      <td>Alabama</td>\n",
       "      <td>0.595512</td>\n",
       "    </tr>\n",
       "    <tr>\n",
       "      <th>1</th>\n",
       "      <td>Alaska</td>\n",
       "      <td>0.509687</td>\n",
       "    </tr>\n",
       "    <tr>\n",
       "      <th>2</th>\n",
       "      <td>Arizona</td>\n",
       "      <td>0.702198</td>\n",
       "    </tr>\n",
       "    <tr>\n",
       "      <th>3</th>\n",
       "      <td>Arkansas</td>\n",
       "      <td>0.636278</td>\n",
       "    </tr>\n",
       "    <tr>\n",
       "      <th>4</th>\n",
       "      <td>California</td>\n",
       "      <td>0.425353</td>\n",
       "    </tr>\n",
       "  </tbody>\n",
       "</table>\n",
       "</div>"
      ],
      "text/plain": [
       "        State  predict_scaled\n",
       "0     Alabama        0.595512\n",
       "1      Alaska        0.509687\n",
       "2     Arizona        0.702198\n",
       "3    Arkansas        0.636278\n",
       "4  California        0.425353"
      ]
     },
     "execution_count": 25,
     "metadata": {},
     "output_type": "execute_result"
    }
   ],
   "source": [
    "simplified_df.head()"
   ]
  },
  {
   "cell_type": "code",
   "execution_count": 26,
   "metadata": {},
   "outputs": [],
   "source": [
    "simplified_df = pd.read_csv('../data_model/simplified_test_with_predictions_scaled.csv')\n",
    "\n",
    "# Convert the DataFrame to JSON\n",
    "json_data = simplified_df.to_json(orient='records')\n",
    "\n",
    "# Save the JSON data to a file\n",
    "with open('../data_model/state_predictions.json', 'w') as file:\n",
    "    file.write(json_data)"
   ]
  },
  {
   "cell_type": "code",
   "execution_count": null,
   "metadata": {},
   "outputs": [
    {
     "ename": "",
     "evalue": "",
     "output_type": "error",
     "traceback": [
      "\u001b[1;31mThe Kernel crashed while executing code in the current cell or a previous cell. \n",
      "\u001b[1;31mPlease review the code in the cell(s) to identify a possible cause of the failure. \n",
      "\u001b[1;31mClick <a href='https://aka.ms/vscodeJupyterKernelCrash'>here</a> for more info. \n",
      "\u001b[1;31mView Jupyter <a href='command:jupyter.viewOutput'>log</a> for further details."
     ]
    }
   ],
   "source": [
    "import json\n",
    "\n",
    "\n",
    "with open('../visualization/us-states.json') as f:\n",
    "    states_data = json.load(f)\n",
    "\n",
    "# Convert predictions to a DataFrame\n",
    "predictions_df = pd.DataFrame(predictions)\n",
    "\n",
    "# Extract the properties from the GeoJSON and create a DataFrame\n",
    "features = states_data['features']\n",
    "properties = [feature['properties'] for feature in features]\n",
    "states_df = pd.DataFrame(properties)\n",
    "\n",
    "# Merge on 'State' and 'name' to add 'predict_scaled' to the states DataFrame\n",
    "merged_df = states_df.merge(simplified_df, left_on='name', right_on='State', how='left')\n",
    "\n",
    "merged_df['predict_scaled'] = merged_df['predict_scaled'].fillna(0)\n",
    "\n",
    "# Update the GeoJSON with predict_scaled values\n",
    "for feature in states_data['features']:\n",
    "    state_name = feature['properties']['name']\n",
    "    predict_scaled = merged_df.loc[merged_df['name'] == state_name, 'predict_scaled'].values\n",
    "    if len(predict_scaled) > 0:\n",
    "        feature['properties']['predict_scaled'] = predict_scaled[0]\n",
    "\n",
    "# Save the updated GeoJSON to a file\n",
    "with open('updated_statesData.json', 'w') as f:\n",
    "    json.dump(states_data, f)"
   ]
  },
  {
   "cell_type": "code",
   "execution_count": null,
   "metadata": {},
   "outputs": [
    {
     "data": {
      "text/html": [
       "<div>\n",
       "<style scoped>\n",
       "    .dataframe tbody tr th:only-of-type {\n",
       "        vertical-align: middle;\n",
       "    }\n",
       "\n",
       "    .dataframe tbody tr th {\n",
       "        vertical-align: top;\n",
       "    }\n",
       "\n",
       "    .dataframe thead th {\n",
       "        text-align: right;\n",
       "    }\n",
       "</style>\n",
       "<table border=\"1\" class=\"dataframe\">\n",
       "  <thead>\n",
       "    <tr style=\"text-align: right;\">\n",
       "      <th></th>\n",
       "      <th>type</th>\n",
       "      <th>features</th>\n",
       "    </tr>\n",
       "  </thead>\n",
       "  <tbody>\n",
       "    <tr>\n",
       "      <th>0</th>\n",
       "      <td>FeatureCollection</td>\n",
       "      <td>[{'type': 'Feature', 'id': '01', 'properties':...</td>\n",
       "    </tr>\n",
       "  </tbody>\n",
       "</table>\n",
       "</div>"
      ],
      "text/plain": [
       "                type                                           features\n",
       "0  FeatureCollection  [{'type': 'Feature', 'id': '01', 'properties':..."
      ]
     },
     "execution_count": 24,
     "metadata": {},
     "output_type": "execute_result"
    }
   ],
   "source": [
    "import json\n",
    "\n",
    " # Open the file and read its contents\n",
    "with open('../visualization/us-states.js', 'r') as f:\n",
    "    js_content = f.read()\n",
    "\n",
    "# Remove the JavaScript variable declaration and trailing semicolon\n",
    "json_str = js_content.replace(\"var statesData =\", \"\").strip().rstrip(';')\n",
    "\n",
    "# Load the cleaned JSON string\n",
    "geojson_data = json.loads(json_str)\n",
    "\n",
    "geojson_df = pd.json_normalize(geojson_data)\n",
    "geojson_df.head()\n"
   ]
  },
  {
   "cell_type": "code",
   "execution_count": null,
   "metadata": {},
   "outputs": [],
   "source": [
    "df = pd.read_csv('your_file.csv')\n",
    "\n",
    "# Convert the DataFrame to JSON\n",
    "json_data = df.to_json(orient='records')\n",
    "\n",
    "# Save the JSON data to a file\n",
    "with open('your_file.json', 'w') as file:\n",
    "    file.write(json_data)"
   ]
  }
 ],
 "metadata": {
  "kernelspec": {
   "display_name": "h2o",
   "language": "python",
   "name": "python3"
  },
  "language_info": {
   "codemirror_mode": {
    "name": "ipython",
    "version": 3
   },
   "file_extension": ".py",
   "mimetype": "text/x-python",
   "name": "python",
   "nbconvert_exporter": "python",
   "pygments_lexer": "ipython3",
   "version": "3.11.9"
  }
 },
 "nbformat": 4,
 "nbformat_minor": 2
}
