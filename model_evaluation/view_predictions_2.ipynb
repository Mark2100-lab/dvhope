{
 "cells": [
  {
   "cell_type": "code",
   "execution_count": 1,
   "metadata": {},
   "outputs": [],
   "source": [
    "import os\n",
    "os.environ[\"JAVA_HOME\"] = r\"C:\\Program Files\\Java\\jdk-17\"\n",
    "os.environ[\"PATH\"] = r\"C:\\Program Files\\Java\\jdk-17\\bin;\" + os.environ[\"PATH\"]"
   ]
  },
  {
   "cell_type": "code",
   "execution_count": 2,
   "metadata": {},
   "outputs": [
    {
     "name": "stderr",
     "output_type": "stream",
     "text": [
      "java version \"17.0.11\" 2024-04-16 LTS\n",
      "Java(TM) SE Runtime Environment (build 17.0.11+7-LTS-207)\n",
      "Java HotSpot(TM) 64-Bit Server VM (build 17.0.11+7-LTS-207, mixed mode, sharing)\n"
     ]
    }
   ],
   "source": [
    "!java -version"
   ]
  },
  {
   "cell_type": "code",
   "execution_count": 3,
   "metadata": {},
   "outputs": [
    {
     "name": "stdout",
     "output_type": "stream",
     "text": [
      "Checking whether there is an H2O instance running at http://localhost:54329..... not found.\n",
      "Attempting to start a local H2O server...\n",
      "; Java HotSpot(TM) 64-Bit Server VM (build 17.0.11+7-LTS-207, mixed mode, sharing)\n",
      "  Starting server from C:\\Users\\Paul\\anaconda3\\envs\\h2o\\Lib\\site-packages\\h2o\\backend\\bin\\h2o.jar\n",
      "  Ice root: C:\\Users\\Paul\\AppData\\Local\\Temp\\tmpnxquwf2s\n",
      "  JVM stdout: C:\\Users\\Paul\\AppData\\Local\\Temp\\tmpnxquwf2s\\h2o_Paul_started_from_python.out\n",
      "  JVM stderr: C:\\Users\\Paul\\AppData\\Local\\Temp\\tmpnxquwf2s\\h2o_Paul_started_from_python.err\n",
      "  Server is running at http://127.0.0.1:54329\n",
      "Connecting to H2O server at http://127.0.0.1:54329 ... successful.\n"
     ]
    },
    {
     "data": {
      "text/html": [
       "\n",
       "<style>\n",
       "\n",
       "#h2o-table-1.h2o-container {\n",
       "  overflow-x: auto;\n",
       "}\n",
       "#h2o-table-1 .h2o-table {\n",
       "  /* width: 100%; */\n",
       "  margin-top: 1em;\n",
       "  margin-bottom: 1em;\n",
       "}\n",
       "#h2o-table-1 .h2o-table caption {\n",
       "  white-space: nowrap;\n",
       "  caption-side: top;\n",
       "  text-align: left;\n",
       "  /* margin-left: 1em; */\n",
       "  margin: 0;\n",
       "  font-size: larger;\n",
       "}\n",
       "#h2o-table-1 .h2o-table thead {\n",
       "  white-space: nowrap; \n",
       "  position: sticky;\n",
       "  top: 0;\n",
       "  box-shadow: 0 -1px inset;\n",
       "}\n",
       "#h2o-table-1 .h2o-table tbody {\n",
       "  overflow: auto;\n",
       "}\n",
       "#h2o-table-1 .h2o-table th,\n",
       "#h2o-table-1 .h2o-table td {\n",
       "  text-align: right;\n",
       "  /* border: 1px solid; */\n",
       "}\n",
       "#h2o-table-1 .h2o-table tr:nth-child(even) {\n",
       "  /* background: #F5F5F5 */\n",
       "}\n",
       "\n",
       "</style>      \n",
       "<div id=\"h2o-table-1\" class=\"h2o-container\">\n",
       "  <table class=\"h2o-table\">\n",
       "    <caption></caption>\n",
       "    <thead></thead>\n",
       "    <tbody><tr><td>H2O_cluster_uptime:</td>\n",
       "<td>01 secs</td></tr>\n",
       "<tr><td>H2O_cluster_timezone:</td>\n",
       "<td>America/Denver</td></tr>\n",
       "<tr><td>H2O_data_parsing_timezone:</td>\n",
       "<td>UTC</td></tr>\n",
       "<tr><td>H2O_cluster_version:</td>\n",
       "<td>3.46.0.5</td></tr>\n",
       "<tr><td>H2O_cluster_version_age:</td>\n",
       "<td>2 months and 15 days</td></tr>\n",
       "<tr><td>H2O_cluster_name:</td>\n",
       "<td>H2O_from_python_Paul_sueorv</td></tr>\n",
       "<tr><td>H2O_cluster_total_nodes:</td>\n",
       "<td>1</td></tr>\n",
       "<tr><td>H2O_cluster_free_memory:</td>\n",
       "<td>29.97 Gb</td></tr>\n",
       "<tr><td>H2O_cluster_total_cores:</td>\n",
       "<td>0</td></tr>\n",
       "<tr><td>H2O_cluster_allowed_cores:</td>\n",
       "<td>0</td></tr>\n",
       "<tr><td>H2O_cluster_status:</td>\n",
       "<td>locked, healthy</td></tr>\n",
       "<tr><td>H2O_connection_url:</td>\n",
       "<td>http://127.0.0.1:54329</td></tr>\n",
       "<tr><td>H2O_connection_proxy:</td>\n",
       "<td>{\"http\": null, \"https\": null}</td></tr>\n",
       "<tr><td>H2O_internal_security:</td>\n",
       "<td>False</td></tr>\n",
       "<tr><td>Python_version:</td>\n",
       "<td>3.11.9 final</td></tr></tbody>\n",
       "  </table>\n",
       "</div>\n"
      ],
      "text/plain": [
       "--------------------------  -----------------------------\n",
       "H2O_cluster_uptime:         01 secs\n",
       "H2O_cluster_timezone:       America/Denver\n",
       "H2O_data_parsing_timezone:  UTC\n",
       "H2O_cluster_version:        3.46.0.5\n",
       "H2O_cluster_version_age:    2 months and 15 days\n",
       "H2O_cluster_name:           H2O_from_python_Paul_sueorv\n",
       "H2O_cluster_total_nodes:    1\n",
       "H2O_cluster_free_memory:    29.97 Gb\n",
       "H2O_cluster_total_cores:    0\n",
       "H2O_cluster_allowed_cores:  0\n",
       "H2O_cluster_status:         locked, healthy\n",
       "H2O_connection_url:         http://127.0.0.1:54329\n",
       "H2O_connection_proxy:       {\"http\": null, \"https\": null}\n",
       "H2O_internal_security:      False\n",
       "Python_version:             3.11.9 final\n",
       "--------------------------  -----------------------------"
      ]
     },
     "metadata": {},
     "output_type": "display_data"
    }
   ],
   "source": [
    "import h2o\n",
    "h2o.init(port=54329)"
   ]
  },
  {
   "cell_type": "code",
   "execution_count": 4,
   "metadata": {},
   "outputs": [],
   "source": [
    "model_path = \"../saved_models/GBM_grid_1_AutoML_1_20241113_70146_model_225\"\n",
    "saved_model = h2o.load_model(model_path)"
   ]
  },
  {
   "cell_type": "code",
   "execution_count": 6,
   "metadata": {},
   "outputs": [
    {
     "data": {
      "text/plain": [
       "Index(['State', 'State-County', '1,1,2,2-Tetrachloroethane', '1,3-Butadiene',\n",
       "       '1,4-Dichlorobenzene', '2,2,4-Trimethylpentane', 'Acetaldehyde',\n",
       "       'Acrolein', 'Ammonia', 'Arsenic Compounds', 'Benzene',\n",
       "       'Beryllium Compounds', 'Cadmium Compounds', 'Carbon Dioxide',\n",
       "       'Carbon Monoxide', 'Carbon Tetrachloride', 'Chlorobenzene',\n",
       "       'Chloroform', 'Chromium Compounds', 'Cobalt Compounds', 'Cumene',\n",
       "       'Ethyl Chloride', 'Ethylbenzene', 'Formaldehyde', 'Hexane',\n",
       "       'Lead Compounds', 'Manganese Compounds', 'Mercury Compounds', 'Methane',\n",
       "       'Methanol', 'Methyl Isobutyl Ketone', 'Methylene Chloride',\n",
       "       'Naphthalene', 'Nickel Compounds', 'Nitrogen Oxides', 'Nitrous Oxide',\n",
       "       'PM10 Primary (Filt + Cond)', 'PM2.5 Primary (Filt + Cond)', 'Phenol',\n",
       "       'Polycyclic Organic Matter', 'Propionaldehyde', 'Selenium Compounds',\n",
       "       'Styrene', 'Sulfur Dioxide', 'Toluene', 'Vinyl Chloride',\n",
       "       'Volatile Organic Compounds', 'Xylenes (Mixed Isomers)', 'Data_Value'],\n",
       "      dtype='object')"
      ]
     },
     "execution_count": 6,
     "metadata": {},
     "output_type": "execute_result"
    }
   ],
   "source": [
    "import pandas as pd\n",
    "df = pd.read_csv('../data_preprocessing/pivoted_cancer.csv')\n",
    "df.columns"
   ]
  },
  {
   "cell_type": "code",
   "execution_count": 7,
   "metadata": {},
   "outputs": [
    {
     "name": "stdout",
     "output_type": "stream",
     "text": [
      "Parse progress: |████████████████████████████████████████████████████████████████| (done) 100%\n"
     ]
    }
   ],
   "source": [
    "h2o_df = h2o.H2OFrame(df)\n",
    "\n",
    "splits = h2o_df.split_frame(ratios = [0.8], seed = 1)\n",
    "train = splits[0]\n",
    "test = splits[1]"
   ]
  },
  {
   "cell_type": "code",
   "execution_count": 8,
   "metadata": {},
   "outputs": [
    {
     "name": "stdout",
     "output_type": "stream",
     "text": [
      "gbm prediction progress: |███████████████████████████████████████████████████████| (done) 100%\n",
      "  predict\n",
      "  6.86218\n",
      "  7.11347\n",
      "  6.53439\n",
      "  6.75701\n",
      "  6.74593\n",
      "  6.77077\n",
      "  6.72989\n",
      "  7.28185\n",
      "  6.63527\n",
      "  6.497\n",
      "[580 rows x 1 column]\n",
      "\n"
     ]
    }
   ],
   "source": [
    "predictions = saved_model.predict(test)\n",
    "print(predictions)"
   ]
  },
  {
   "cell_type": "code",
   "execution_count": 9,
   "metadata": {},
   "outputs": [
    {
     "name": "stderr",
     "output_type": "stream",
     "text": [
      "c:\\Users\\Paul\\anaconda3\\envs\\h2o\\Lib\\site-packages\\h2o\\frame.py:1981: H2ODependencyWarning: Converting H2O frame to pandas dataframe using single-thread.  For faster conversion using multi-thread, install polars and pyarrow and use it as pandas_df = h2o_df.as_data_frame(use_multi_thread=True)\n",
      "\n",
      "  warnings.warn(\"Converting H2O frame to pandas dataframe using single-thread.  For faster conversion using\"\n"
     ]
    }
   ],
   "source": [
    "predictions_df = predictions.as_data_frame()  # Convert predictions to Pandas"
   ]
  },
  {
   "cell_type": "code",
   "execution_count": 10,
   "metadata": {},
   "outputs": [
    {
     "name": "stderr",
     "output_type": "stream",
     "text": [
      "c:\\Users\\Paul\\anaconda3\\envs\\h2o\\Lib\\site-packages\\h2o\\frame.py:1981: H2ODependencyWarning: Converting H2O frame to pandas dataframe using single-thread.  For faster conversion using multi-thread, install polars and pyarrow and use it as pandas_df = h2o_df.as_data_frame(use_multi_thread=True)\n",
      "\n",
      "  warnings.warn(\"Converting H2O frame to pandas dataframe using single-thread.  For faster conversion using\"\n"
     ]
    }
   ],
   "source": [
    "test_df = test.as_data_frame()  # Convert predictions to Pandas"
   ]
  },
  {
   "cell_type": "code",
   "execution_count": 11,
   "metadata": {},
   "outputs": [],
   "source": [
    "combined_df = pd.concat([test_df, predictions_df], axis=1)"
   ]
  },
  {
   "cell_type": "code",
   "execution_count": 12,
   "metadata": {},
   "outputs": [
    {
     "data": {
      "text/html": [
       "<div>\n",
       "<style scoped>\n",
       "    .dataframe tbody tr th:only-of-type {\n",
       "        vertical-align: middle;\n",
       "    }\n",
       "\n",
       "    .dataframe tbody tr th {\n",
       "        vertical-align: top;\n",
       "    }\n",
       "\n",
       "    .dataframe thead th {\n",
       "        text-align: right;\n",
       "    }\n",
       "</style>\n",
       "<table border=\"1\" class=\"dataframe\">\n",
       "  <thead>\n",
       "    <tr style=\"text-align: right;\">\n",
       "      <th></th>\n",
       "      <th>State</th>\n",
       "      <th>State-County</th>\n",
       "      <th>1,1,2,2-Tetrachloroethane</th>\n",
       "      <th>1,3-Butadiene</th>\n",
       "      <th>1,4-Dichlorobenzene</th>\n",
       "      <th>2,2,4-Trimethylpentane</th>\n",
       "      <th>Acetaldehyde</th>\n",
       "      <th>Acrolein</th>\n",
       "      <th>Ammonia</th>\n",
       "      <th>Arsenic Compounds</th>\n",
       "      <th>...</th>\n",
       "      <th>Propionaldehyde</th>\n",
       "      <th>Selenium Compounds</th>\n",
       "      <th>Styrene</th>\n",
       "      <th>Sulfur Dioxide</th>\n",
       "      <th>Toluene</th>\n",
       "      <th>Vinyl Chloride</th>\n",
       "      <th>Volatile Organic Compounds</th>\n",
       "      <th>Xylenes (Mixed Isomers)</th>\n",
       "      <th>Data_Value</th>\n",
       "      <th>predict</th>\n",
       "    </tr>\n",
       "  </thead>\n",
       "  <tbody>\n",
       "    <tr>\n",
       "      <th>0</th>\n",
       "      <td>Alabama</td>\n",
       "      <td>AL - Barbour</td>\n",
       "      <td>0.0000</td>\n",
       "      <td>0.48014</td>\n",
       "      <td>0.00000</td>\n",
       "      <td>0.00106</td>\n",
       "      <td>3.34798</td>\n",
       "      <td>1.96112</td>\n",
       "      <td>68.445</td>\n",
       "      <td>0.00501</td>\n",
       "      <td>...</td>\n",
       "      <td>0.21902</td>\n",
       "      <td>0.00045</td>\n",
       "      <td>0.56223</td>\n",
       "      <td>178.48868</td>\n",
       "      <td>0.49191</td>\n",
       "      <td>0.00400</td>\n",
       "      <td>252.98857</td>\n",
       "      <td>0.55827</td>\n",
       "      <td>6.2</td>\n",
       "      <td>6.862181</td>\n",
       "    </tr>\n",
       "    <tr>\n",
       "      <th>1</th>\n",
       "      <td>Alabama</td>\n",
       "      <td>AL - Cherokee</td>\n",
       "      <td>0.1926</td>\n",
       "      <td>0.02379</td>\n",
       "      <td>0.03295</td>\n",
       "      <td>0.00059</td>\n",
       "      <td>0.05191</td>\n",
       "      <td>0.02844</td>\n",
       "      <td>0.190</td>\n",
       "      <td>0.00033</td>\n",
       "      <td>...</td>\n",
       "      <td>0.00863</td>\n",
       "      <td>0.00003</td>\n",
       "      <td>0.00507</td>\n",
       "      <td>2.21010</td>\n",
       "      <td>3.88462</td>\n",
       "      <td>0.48643</td>\n",
       "      <td>10.38674</td>\n",
       "      <td>1.38934</td>\n",
       "      <td>7.6</td>\n",
       "      <td>7.113469</td>\n",
       "    </tr>\n",
       "    <tr>\n",
       "      <th>2</th>\n",
       "      <td>Alabama</td>\n",
       "      <td>AL - Crenshaw</td>\n",
       "      <td>0.0000</td>\n",
       "      <td>0.00835</td>\n",
       "      <td>0.00000</td>\n",
       "      <td>0.00021</td>\n",
       "      <td>0.01822</td>\n",
       "      <td>0.00998</td>\n",
       "      <td>0.000</td>\n",
       "      <td>0.00000</td>\n",
       "      <td>...</td>\n",
       "      <td>0.00303</td>\n",
       "      <td>0.00000</td>\n",
       "      <td>0.00178</td>\n",
       "      <td>0.05100</td>\n",
       "      <td>0.01892</td>\n",
       "      <td>0.00000</td>\n",
       "      <td>0.52492</td>\n",
       "      <td>0.01101</td>\n",
       "      <td>6.9</td>\n",
       "      <td>6.534393</td>\n",
       "    </tr>\n",
       "    <tr>\n",
       "      <th>3</th>\n",
       "      <td>Alabama</td>\n",
       "      <td>AL - Lamar</td>\n",
       "      <td>0.0000</td>\n",
       "      <td>0.00237</td>\n",
       "      <td>0.00000</td>\n",
       "      <td>0.00481</td>\n",
       "      <td>5.38134</td>\n",
       "      <td>0.79587</td>\n",
       "      <td>0.000</td>\n",
       "      <td>0.00385</td>\n",
       "      <td>...</td>\n",
       "      <td>0.56097</td>\n",
       "      <td>0.00096</td>\n",
       "      <td>0.00051</td>\n",
       "      <td>18.64350</td>\n",
       "      <td>0.02518</td>\n",
       "      <td>0.00000</td>\n",
       "      <td>571.11543</td>\n",
       "      <td>0.02984</td>\n",
       "      <td>7.3</td>\n",
       "      <td>6.757009</td>\n",
       "    </tr>\n",
       "    <tr>\n",
       "      <th>4</th>\n",
       "      <td>Alabama</td>\n",
       "      <td>AL - Lawrence</td>\n",
       "      <td>0.0401</td>\n",
       "      <td>0.06222</td>\n",
       "      <td>0.00670</td>\n",
       "      <td>0.00040</td>\n",
       "      <td>0.15190</td>\n",
       "      <td>0.08618</td>\n",
       "      <td>0.000</td>\n",
       "      <td>0.00000</td>\n",
       "      <td>...</td>\n",
       "      <td>0.02571</td>\n",
       "      <td>0.00000</td>\n",
       "      <td>0.01188</td>\n",
       "      <td>16.37591</td>\n",
       "      <td>0.83531</td>\n",
       "      <td>0.09920</td>\n",
       "      <td>5.74174</td>\n",
       "      <td>0.31052</td>\n",
       "      <td>7.2</td>\n",
       "      <td>6.745928</td>\n",
       "    </tr>\n",
       "  </tbody>\n",
       "</table>\n",
       "<p>5 rows × 50 columns</p>\n",
       "</div>"
      ],
      "text/plain": [
       "     State   State-County  1,1,2,2-Tetrachloroethane  1,3-Butadiene  \\\n",
       "0  Alabama   AL - Barbour                     0.0000        0.48014   \n",
       "1  Alabama  AL - Cherokee                     0.1926        0.02379   \n",
       "2  Alabama  AL - Crenshaw                     0.0000        0.00835   \n",
       "3  Alabama     AL - Lamar                     0.0000        0.00237   \n",
       "4  Alabama  AL - Lawrence                     0.0401        0.06222   \n",
       "\n",
       "   1,4-Dichlorobenzene  2,2,4-Trimethylpentane  Acetaldehyde  Acrolein  \\\n",
       "0              0.00000                 0.00106       3.34798   1.96112   \n",
       "1              0.03295                 0.00059       0.05191   0.02844   \n",
       "2              0.00000                 0.00021       0.01822   0.00998   \n",
       "3              0.00000                 0.00481       5.38134   0.79587   \n",
       "4              0.00670                 0.00040       0.15190   0.08618   \n",
       "\n",
       "   Ammonia  Arsenic Compounds  ...  Propionaldehyde  Selenium Compounds  \\\n",
       "0   68.445            0.00501  ...          0.21902             0.00045   \n",
       "1    0.190            0.00033  ...          0.00863             0.00003   \n",
       "2    0.000            0.00000  ...          0.00303             0.00000   \n",
       "3    0.000            0.00385  ...          0.56097             0.00096   \n",
       "4    0.000            0.00000  ...          0.02571             0.00000   \n",
       "\n",
       "   Styrene  Sulfur Dioxide  Toluene  Vinyl Chloride  \\\n",
       "0  0.56223       178.48868  0.49191         0.00400   \n",
       "1  0.00507         2.21010  3.88462         0.48643   \n",
       "2  0.00178         0.05100  0.01892         0.00000   \n",
       "3  0.00051        18.64350  0.02518         0.00000   \n",
       "4  0.01188        16.37591  0.83531         0.09920   \n",
       "\n",
       "   Volatile Organic Compounds  Xylenes (Mixed Isomers)  Data_Value   predict  \n",
       "0                   252.98857                  0.55827         6.2  6.862181  \n",
       "1                    10.38674                  1.38934         7.6  7.113469  \n",
       "2                     0.52492                  0.01101         6.9  6.534393  \n",
       "3                   571.11543                  0.02984         7.3  6.757009  \n",
       "4                     5.74174                  0.31052         7.2  6.745928  \n",
       "\n",
       "[5 rows x 50 columns]"
      ]
     },
     "execution_count": 12,
     "metadata": {},
     "output_type": "execute_result"
    }
   ],
   "source": [
    "combined_df.head()"
   ]
  },
  {
   "cell_type": "code",
   "execution_count": 13,
   "metadata": {},
   "outputs": [],
   "source": [
    "combined_df.to_csv(\"../data_model/test_with_predictions_v2.csv\", index=False)"
   ]
  },
  {
   "cell_type": "code",
   "execution_count": 14,
   "metadata": {},
   "outputs": [
    {
     "data": {
      "image/png": "[encoded data removed]",
      "text/plain": [
       "<Figure size 640x480 with 1 Axes>"
      ]
     },
     "metadata": {},
     "output_type": "display_data"
    }
   ],
   "source": [
    "import matplotlib.pyplot as plt\n",
    "\n",
    "# Assuming 'df' is your DataFrame and 'column_name' is the name of the column you want to plot\n",
    "plt.hist(combined_df['predict'], bins=20)  # Adjust the number of bins as needed\n",
    "plt.xlabel('Column Name')\n",
    "plt.ylabel('Frequency')\n",
    "plt.title('Histogram of Column Name')\n",
    "plt.show()"
   ]
  },
  {
   "cell_type": "code",
   "execution_count": 16,
   "metadata": {},
   "outputs": [],
   "source": [
    "# from sklearn.preprocessing import MinMaxScaler\n",
    "\n",
    "\n",
    "# scaler = MinMaxScaler()\n",
    "# combined_df['predict_scaled'] = scaler.fit_transform(combined_df[['predict']])\n",
    "state_avg_df = combined_df.groupby(\"State\").mean('predict').reset_index()\n",
    "state_avg_df\n",
    "# simplified_df = state_avg_df[['State', 'predict']]\n",
    "state_avg_df.to_csv(\"../data_model/avg_predictions_by_state_v2.csv\", index=False)"
   ]
  },
  {
   "cell_type": "code",
   "execution_count": 17,
   "metadata": {},
   "outputs": [],
   "source": [
    "state_avg_df = pd.read_csv('../data_model/avg_predictions_by_state_v2.csv')\n",
    "\n",
    "# Convert the DataFrame to JSON\n",
    "json_data = state_avg_df.to_json(orient='records')\n",
    "\n",
    "# Save the JSON data to a file\n",
    "with open('../data_model/state_predictions_v2.json', 'w') as file:\n",
    "    file.write(json_data)"
   ]
  },
  {
   "cell_type": "code",
   "execution_count": 20,
   "metadata": {},
   "outputs": [],
   "source": [
    "import json\n",
    "\n",
    "\n",
    "with open('../visualization/us-states.json') as f:\n",
    "    states_data = json.load(f)\n",
    "\n",
    "# Convert predictions to a DataFrame\n",
    "predictions_df = pd.DataFrame(predictions)\n",
    "\n",
    "# Extract the properties from the GeoJSON and create a DataFrame\n",
    "features = states_data['features']\n",
    "properties = [feature['properties'] for feature in features]\n",
    "states_df = pd.DataFrame(properties)\n",
    "\n",
    "# Merge on 'State' and 'name' to add 'predict_scaled' to the states DataFrame\n",
    "merged_df = states_df.merge(state_avg_df, left_on='name', right_on='State', how='left')\n",
    "\n",
    "merged_df['predict'] = merged_df['predict'].fillna(0)\n",
    "\n",
    "# Update the GeoJSON with predict_scaled values\n",
    "for feature in states_data['features']:\n",
    "    state_name = feature['properties']['name']\n",
    "    predict_scaled = merged_df.loc[merged_df['name'] == state_name, 'predict'].values\n",
    "    if len(predict_scaled) > 0:\n",
    "        feature['properties']['predict'] = predict_scaled[0]\n",
    "\n",
    "# Save the updated GeoJSON to a file\n",
    "with open('updated_statesData_v2.json', 'w') as f:\n",
    "    json.dump(states_data, f)"
   ]
  },
  {
   "cell_type": "code",
   "execution_count": null,
   "metadata": {},
   "outputs": [
    {
     "data": {
      "text/html": [
       "<div>\n",
       "<style scoped>\n",
       "    .dataframe tbody tr th:only-of-type {\n",
       "        vertical-align: middle;\n",
       "    }\n",
       "\n",
       "    .dataframe tbody tr th {\n",
       "        vertical-align: top;\n",
       "    }\n",
       "\n",
       "    .dataframe thead th {\n",
       "        text-align: right;\n",
       "    }\n",
       "</style>\n",
       "<table border=\"1\" class=\"dataframe\">\n",
       "  <thead>\n",
       "    <tr style=\"text-align: right;\">\n",
       "      <th></th>\n",
       "      <th>type</th>\n",
       "      <th>features</th>\n",
       "    </tr>\n",
       "  </thead>\n",
       "  <tbody>\n",
       "    <tr>\n",
       "      <th>0</th>\n",
       "      <td>FeatureCollection</td>\n",
       "      <td>[{'type': 'Feature', 'id': '01', 'properties':...</td>\n",
       "    </tr>\n",
       "  </tbody>\n",
       "</table>\n",
       "</div>"
      ],
      "text/plain": [
       "                type                                           features\n",
       "0  FeatureCollection  [{'type': 'Feature', 'id': '01', 'properties':..."
      ]
     },
     "execution_count": 24,
     "metadata": {},
     "output_type": "execute_result"
    }
   ],
   "source": [
    "import json\n",
    "\n",
    " # Open the file and read its contents\n",
    "with open('../visualization/us-states.js', 'r') as f:\n",
    "    js_content = f.read()\n",
    "\n",
    "# Remove the JavaScript variable declaration and trailing semicolon\n",
    "json_str = js_content.replace(\"var statesData =\", \"\").strip().rstrip(';')\n",
    "\n",
    "# Load the cleaned JSON string\n",
    "geojson_data = json.loads(json_str)\n",
    "\n",
    "geojson_df = pd.json_normalize(geojson_data)\n",
    "geojson_df.head()\n"
   ]
  },
  {
   "cell_type": "code",
   "execution_count": null,
   "metadata": {},
   "outputs": [],
   "source": [
    "df = pd.read_csv('your_file.csv')\n",
    "\n",
    "# Convert the DataFrame to JSON\n",
    "json_data = df.to_json(orient='records')\n",
    "\n",
    "# Save the JSON data to a file\n",
    "with open('your_file.json', 'w') as file:\n",
    "    file.write(json_data)"
   ]
  }
 ],
 "metadata": {
  "kernelspec": {
   "display_name": "h2o",
   "language": "python",
   "name": "python3"
  },
  "language_info": {
   "codemirror_mode": {
    "name": "ipython",
    "version": 3
   },
   "file_extension": ".py",
   "mimetype": "text/x-python",
   "name": "python",
   "nbconvert_exporter": "python",
   "pygments_lexer": "ipython3",
   "version": "3.11.9"
  }
 },
 "nbformat": 4,
 "nbformat_minor": 2
}
